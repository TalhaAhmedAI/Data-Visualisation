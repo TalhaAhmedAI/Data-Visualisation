{
 "cells": [
  {
   "cell_type": "markdown",
   "metadata": {},
   "source": [
    "# Rolling a Die"
   ]
  },
  {
   "cell_type": "code",
   "execution_count": 1,
   "metadata": {},
   "outputs": [
    {
     "name": "stdout",
     "output_type": "stream",
     "text": [
      "importing Jupyter notebook from die.ipynb\n",
      "[3, 6, 4, 6, 3, 5, 3, 1, 4, 6, 5, 3, 3, 5, 5, 2, 1, 2, 5, 4, 6, 4, 4, 3, 6, 1, 1, 4, 2, 2, 3, 1, 5, 2, 2, 5, 3, 3, 2, 3, 3, 3, 4, 5, 3, 4, 2, 2, 2, 1, 4, 4, 4, 5, 1, 1, 2, 3, 2, 4, 4, 3, 5, 3, 1, 1, 6, 3, 1, 6, 6, 3, 1, 5, 3, 5, 4, 5, 4, 6, 2, 3, 6, 6, 4, 2, 4, 3, 5, 5, 6, 4, 4, 1, 6, 3, 4, 2, 1, 6]\n"
     ]
    }
   ],
   "source": [
    "import plotly\n",
    "from random import randint\n",
    "import import_ipynb\n",
    "from die import Die\n",
    "die = Die()\n",
    "\n",
    "# Make some rolls and store results in a list.\n",
    "results = []\n",
    "for roll_num in range(100):\n",
    "    result = die.roll()\n",
    "    results.append(result)\n",
    "print(results)"
   ]
  },
  {
   "cell_type": "markdown",
   "metadata": {},
   "source": [
    "# Analyzing the Results"
   ]
  },
  {
   "cell_type": "code",
   "execution_count": 2,
   "metadata": {},
   "outputs": [
    {
     "name": "stdout",
     "output_type": "stream",
     "text": [
      "[171, 164, 165, 161, 169, 170]\n"
     ]
    }
   ],
   "source": [
    "# Make some rolls and store results in a list.\n",
    "results = []\n",
    "for roll_num in range(1000):\n",
    "    result = die.roll()\n",
    "    results.append(result)\n",
    "\n",
    "# Analyze the results.\n",
    "frequencies = []\n",
    "for value in range(1, die.num_sides+1):\n",
    "    frequency = results.count(value)\n",
    "    frequencies.append(frequency)\n",
    "print(frequencies)"
   ]
  },
  {
   "cell_type": "markdown",
   "metadata": {},
   "source": [
    "# Visualization of Results"
   ]
  },
  {
   "cell_type": "markdown",
   "metadata": {},
   "source": [
    "## Making a Histogram"
   ]
  },
  {
   "cell_type": "code",
   "execution_count": 3,
   "metadata": {},
   "outputs": [],
   "source": [
    "from plotly.graph_objs import Bar, Layout\n",
    "from plotly import offline\n",
    "die = Die()"
   ]
  },
  {
   "cell_type": "code",
   "execution_count": 4,
   "metadata": {},
   "outputs": [
    {
     "data": {
      "text/plain": [
       "'d6.html'"
      ]
     },
     "execution_count": 4,
     "metadata": {},
     "output_type": "execute_result"
    }
   ],
   "source": [
    "# Make some rolls and store results in a list.\n",
    "results = []\n",
    "for roll_num in range(1000):\n",
    "    result = die.roll()\n",
    "    results.append(result)\n",
    "\n",
    "# Analyze the results.\n",
    "frequencies = []\n",
    "for value in range(1, die.num_sides+1):\n",
    "    frequency = results.count(value)\n",
    "    frequencies.append(frequency)\n",
    "\n",
    "# Visualize the results.\n",
    "x_values = list(range(1, die.num_sides+1))\n",
    "data = [Bar(x=x_values, y=frequencies)]\n",
    "\n",
    "x_axis_config = {'title': 'Result'}\n",
    "y_axis_config = {'title': 'Frequency of Result'}\n",
    "my_layout = Layout(title='Results of rolling one D6 1000 times',\n",
    "                   xaxis = x_axis_config, yaxis = y_axis_config)\n",
    "offline.plot({'data': data, 'layout': my_layout}, filename='d6.html')"
   ]
  }
 ],
 "metadata": {
  "kernelspec": {
   "display_name": "Python 3",
   "language": "python",
   "name": "python3"
  },
  "language_info": {
   "codemirror_mode": {
    "name": "ipython",
    "version": 3
   },
   "file_extension": ".py",
   "mimetype": "text/x-python",
   "name": "python",
   "nbconvert_exporter": "python",
   "pygments_lexer": "ipython3",
   "version": "3.7.3"
  }
 },
 "nbformat": 4,
 "nbformat_minor": 2
}
