{
 "cells": [
  {
   "cell_type": "markdown",
   "metadata": {},
   "source": [
    "# Rolling Two Dice"
   ]
  },
  {
   "cell_type": "code",
   "execution_count": 8,
   "metadata": {},
   "outputs": [],
   "source": [
    "from plotly.graph_objs import Bar, Layout\n",
    "from plotly import offline\n",
    "import import_ipynb\n",
    "from die import Die\n",
    "die_1 = Die()\n",
    "die_2 = Die()"
   ]
  },
  {
   "cell_type": "code",
   "execution_count": 13,
   "metadata": {},
   "outputs": [
    {
     "data": {
      "text/plain": [
       "'d6_d6.html'"
      ]
     },
     "execution_count": 13,
     "metadata": {},
     "output_type": "execute_result"
    }
   ],
   "source": [
    "# Make some rolls and store results in a list.\n",
    "results = []\n",
    "for roll_num in range(1000):\n",
    "    # >>\n",
    "    result = die_1.roll() + die_2.roll()\n",
    "    results.append(result)\n",
    "    # <<\n",
    "\n",
    "# Analyze the results.\n",
    "frequencies = []\n",
    "# >>\n",
    "max_result = die_1.num_sides + die_2.num_sides\n",
    "for value in range(2, max_result+1):\n",
    "    frequency = results.count(value)\n",
    "    frequencies.append(frequency)\n",
    "# <<\n",
    "\n",
    "# Visualize the results.\n",
    "x_values = list(range(2, max_result+1))\n",
    "data = [Bar(x=x_values, y=frequencies)]\n",
    "\n",
    "x_axis_config = {'title': 'Result', 'dtick': 1}\n",
    "y_axis_config = {'title': 'Frequency of Result'}\n",
    "my_layout = Layout(title='Results of rolling two D6 dice 1000 times',\n",
    "                   xaxis = x_axis_config, yaxis = y_axis_config)\n",
    "offline.plot({'data': data, 'layout': my_layout}, filename='d6_d6.html')"
   ]
  },
  {
   "cell_type": "code",
   "execution_count": null,
   "metadata": {},
   "outputs": [],
   "source": []
  }
 ],
 "metadata": {
  "kernelspec": {
   "display_name": "Python 3",
   "language": "python",
   "name": "python3"
  },
  "language_info": {
   "codemirror_mode": {
    "name": "ipython",
    "version": 3
   },
   "file_extension": ".py",
   "mimetype": "text/x-python",
   "name": "python",
   "nbconvert_exporter": "python",
   "pygments_lexer": "ipython3",
   "version": "3.7.3"
  }
 },
 "nbformat": 4,
 "nbformat_minor": 2
}
