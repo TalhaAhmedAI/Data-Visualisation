{
 "cells": [
  {
   "cell_type": "code",
   "execution_count": 1,
   "metadata": {},
   "outputs": [],
   "source": [
    "import json\n",
    "\n",
    "# Explore the structure of the data.\n",
    "filename = 'Data/eq_data_1_day_m1.json'\n",
    "with open(filename) as f:\n",
    "    all_eq_data = json.load(f)\n",
    "    \n",
    "readable_file = 'Data/readable_eq_data.json'\n",
    "with open(readable_file, 'w') as f:\n",
    "    json.dump(all_eq_data, f, indent=4)"
   ]
  },
  {
   "cell_type": "markdown",
   "metadata": {},
   "source": [
    "# Making a List of All Earthquakes"
   ]
  },
  {
   "cell_type": "code",
   "execution_count": 2,
   "metadata": {},
   "outputs": [
    {
     "name": "stdout",
     "output_type": "stream",
     "text": [
      "158\n"
     ]
    }
   ],
   "source": [
    "all_eq_dicts = all_eq_data['features']\n",
    "print(len(all_eq_dicts))"
   ]
  },
  {
   "cell_type": "markdown",
   "metadata": {},
   "source": [
    "# Extracting Magnitudes"
   ]
  },
  {
   "cell_type": "code",
   "execution_count": 3,
   "metadata": {},
   "outputs": [
    {
     "name": "stdout",
     "output_type": "stream",
     "text": [
      "[0.96, 1.2, 4.3, 3.6, 2.1, 4, 1.06, 2.3, 4.9, 1.8]\n"
     ]
    }
   ],
   "source": [
    "mags = []\n",
    "for eq_dict in all_eq_dicts:\n",
    "    mag = eq_dict['properties']['mag']\n",
    "    mags.append(mag)\n",
    "\n",
    "print(mags[:10])"
   ]
  },
  {
   "cell_type": "markdown",
   "metadata": {},
   "source": [
    "# Extracting the Location Data"
   ]
  },
  {
   "cell_type": "code",
   "execution_count": 4,
   "metadata": {},
   "outputs": [
    {
     "name": "stdout",
     "output_type": "stream",
     "text": [
      "[0.96, 1.2, 4.3, 3.6, 2.1, 4, 1.06, 2.3, 4.9, 1.8] [-116.7941667, -148.9865, -74.2343, -161.6801, -118.5316667] [33.4863333, 64.6673, -12.1025, 54.2232, 35.3098333]\n"
     ]
    }
   ],
   "source": [
    "mags, lons, lats = [], [], []\n",
    "for eq_dict in all_eq_dicts:\n",
    "    mag = eq_dict['properties']['mag']\n",
    "    lon = eq_dict['geometry']['coordinates'][0]\n",
    "    lat = eq_dict['geometry']['coordinates'][1]\n",
    "    mags.append(mag)\n",
    "    lons.append(lon)\n",
    "    lats.append(lat)\n",
    "\n",
    "print(mags[:10], lons[:5], lats[:5])"
   ]
  },
  {
   "cell_type": "code",
   "execution_count": 5,
   "metadata": {},
   "outputs": [
    {
     "data": {
      "text/plain": [
       "'global_earthquakes.html'"
      ]
     },
     "execution_count": 5,
     "metadata": {},
     "output_type": "execute_result"
    }
   ],
   "source": [
    "from plotly.graph_objs import Scattergeo, Layout\n",
    "from plotly import offline\n",
    "\n",
    "# Map the earthquakes.\n",
    "data = [Scattergeo(lon=lons, lat=lats)]\n",
    "my_layout = Layout(title='Global Earthquakes')\n",
    "\n",
    "fig = {'data': data, 'layout': my_layout}\n",
    "offline.plot(fig, filename='global_earthquakes.html')"
   ]
  },
  {
   "cell_type": "markdown",
   "metadata": {},
   "source": [
    "# A Different Way to Specifying This Chart Data "
   ]
  },
  {
   "cell_type": "code",
   "execution_count": 6,
   "metadata": {},
   "outputs": [
    {
     "data": {
      "text/plain": [
       "'global_earthquakes_marker.html'"
      ]
     },
     "execution_count": 6,
     "metadata": {},
     "output_type": "execute_result"
    }
   ],
   "source": [
    "# Map the earthquakes.\n",
    "data = [{\n",
    "    'type': 'scattergeo',\n",
    "    'lon': lons,\n",
    "    'lat': lats,\n",
    "    'marker': {\n",
    "        'size': [3*mag for mag in mags],\n",
    "    },\n",
    "}]\n",
    "\n",
    "my_layout = Layout(title='Global Earthquakes')\n",
    "\n",
    "fig = {'data': data, 'layout': my_layout}\n",
    "offline.plot(fig, filename='global_earthquakes_marker.html')"
   ]
  },
  {
   "cell_type": "markdown",
   "metadata": {},
   "source": [
    "# Customizing Marker Colors"
   ]
  },
  {
   "cell_type": "code",
   "execution_count": 7,
   "metadata": {},
   "outputs": [
    {
     "name": "stdout",
     "output_type": "stream",
     "text": [
      "6274\n",
      "[-116.7941667, -148.9865, -74.2343, -161.6801, -118.5316667] [33.4863333, 64.6673, -12.1025, 54.2232, 35.3098333]\n"
     ]
    },
    {
     "data": {
      "text/plain": [
       "'global_earthquakes_30_days.html'"
      ]
     },
     "execution_count": 7,
     "metadata": {},
     "output_type": "execute_result"
    }
   ],
   "source": [
    "# Using a different file here.\n",
    "\n",
    "filename = 'data/eq_data_30_day_m1.json'\n",
    "with open(filename) as f:\n",
    "    all_eq_data = json.load(f)\n",
    "    \n",
    "readable_file = 'data/readable_eq_data.json'\n",
    "with open(readable_file, 'w') as f:\n",
    "    json.dump(all_eq_data, f, indent=4)\n",
    "    \n",
    "all_eq_dicts = all_eq_data['features']\n",
    "print(len(all_eq_dicts))\n",
    "\n",
    "lons, lats = [], []\n",
    "for eq_dict in all_eq_dicts:\n",
    "    lon = eq_dict['geometry']['coordinates'][0]\n",
    "    lat = eq_dict['geometry']['coordinates'][1]\n",
    "    lons.append(lon)\n",
    "    lats.append(lat)\n",
    "\n",
    "print(lons[:5], lats[:5])\n",
    "\n",
    "from plotly.graph_objs import Scattergeo, Layout\n",
    "from plotly import offline\n",
    "\n",
    "# Map the earthquakes.\n",
    "data = [{\n",
    "    'type': 'scattergeo',\n",
    "    'lon': lons,\n",
    "    'lat': lats,\n",
    "    'marker': {\n",
    "        'size': [3*mag for mag in mags],\n",
    "        'color': mags,\n",
    "        'reversescale': True,\n",
    "        'colorbar': {'title': 'Magnitude'},\n",
    "    },\n",
    "}]\n",
    "\n",
    "my_layout = Layout(title='Global Earthquakes')\n",
    "\n",
    "fig = {'data': data, 'layout': my_layout}\n",
    "offline.plot(fig, filename='global_earthquakes_30_days.html')"
   ]
  },
  {
   "cell_type": "markdown",
   "metadata": {},
   "source": [
    "# Other Color Cases"
   ]
  },
  {
   "cell_type": "code",
   "execution_count": 8,
   "metadata": {},
   "outputs": [
    {
     "name": "stdout",
     "output_type": "stream",
     "text": [
      "Greys\n",
      "YlGnBu\n",
      "Greens\n",
      "YlOrRd\n",
      "Bluered\n",
      "RdBu\n",
      "Reds\n",
      "Blues\n",
      "Picnic\n",
      "Rainbow\n",
      "Portland\n",
      "Jet\n",
      "Hot\n",
      "Blackbody\n",
      "Earth\n",
      "Electric\n",
      "Viridis\n",
      "Cividis\n"
     ]
    }
   ],
   "source": [
    "from plotly import colors\n",
    "\n",
    "for key in colors.PLOTLY_SCALES.keys():\n",
    "    print(key)"
   ]
  },
  {
   "cell_type": "markdown",
   "metadata": {},
   "source": [
    "# Adding Hover Text"
   ]
  },
  {
   "cell_type": "code",
   "execution_count": 9,
   "metadata": {},
   "outputs": [],
   "source": [
    "hover_texts = []\n",
    "for eq_dict in all_eq_dicts:\n",
    "    title = eq_dict['properties']['title']\n",
    "    hover_texts.append(title)"
   ]
  },
  {
   "cell_type": "code",
   "execution_count": 10,
   "metadata": {},
   "outputs": [
    {
     "data": {
      "text/plain": [
       "'global_earthquakes_30days_with_hover_txt.html'"
      ]
     },
     "execution_count": 10,
     "metadata": {},
     "output_type": "execute_result"
    }
   ],
   "source": [
    "# Map the earthquakes.\n",
    "data = [{\n",
    "    'type': 'scattergeo',\n",
    "    'lon': lons,\n",
    "    'lat': lats,\n",
    "    'text': hover_texts,\n",
    "    'marker': {\n",
    "        'size': [3*mag for mag in mags],\n",
    "        'color': mags,\n",
    "        'reversescale': True,\n",
    "        'colorbar': {'title': 'Magnitude'},\n",
    "    },\n",
    "}]\n",
    "\n",
    "my_layout = Layout(title='Global Earthquakes')\n",
    "\n",
    "fig = {'data': data, 'layout': my_layout}\n",
    "offline.plot(fig, filename='global_earthquakes_30days_with_hover_txt.html')"
   ]
  },
  {
   "cell_type": "code",
   "execution_count": null,
   "metadata": {},
   "outputs": [],
   "source": []
  }
 ],
 "metadata": {
  "kernelspec": {
   "display_name": "Python 3",
   "language": "python",
   "name": "python3"
  },
  "language_info": {
   "codemirror_mode": {
    "name": "ipython",
    "version": 3
   },
   "file_extension": ".py",
   "mimetype": "text/x-python",
   "name": "python",
   "nbconvert_exporter": "python",
   "pygments_lexer": "ipython3",
   "version": "3.7.3"
  }
 },
 "nbformat": 4,
 "nbformat_minor": 2
}
